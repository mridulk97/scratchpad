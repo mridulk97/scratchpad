{
 "cells": [
  {
   "cell_type": "code",
   "execution_count": 1,
   "id": "671dd075-223f-473e-93e7-6417e53b5522",
   "metadata": {},
   "outputs": [
    {
     "name": "stderr",
     "output_type": "stream",
     "text": [
      "/home/mridul/anaconda3/envs/n2v/lib/python3.9/site-packages/scipy/__init__.py:146: UserWarning: A NumPy version >=1.16.5 and <1.23.0 is required for this version of SciPy (detected version 1.23.5\n",
      "  warnings.warn(f\"A NumPy version >={np_minversion} and <{np_maxversion}\"\n"
     ]
    }
   ],
   "source": [
    "import os\n",
    "import pandas as pd\n",
    "import math\n",
    "import pickle\n",
    "import pprint\n",
    "pp = pprint.PrettyPrinter(indent=4)\n",
    "\n",
    "# For phylogeny parsing\n",
    "# !pip install opentree\n",
    "from opentree import OT\n",
    "# !pip install ete3\n",
    "from ete3 import Tree, PhyloTree\n",
    "import pdb"
   ]
  },
  {
   "cell_type": "code",
   "execution_count": 2,
   "id": "21fd4973-9015-4aa4-ac4a-83ed5fbbe876",
   "metadata": {},
   "outputs": [],
   "source": [
    "class PhylogenyCUB:\n",
    "    # Phylogeny class for CUB dataset\n",
    "    def __init__(self, filePath, node_ids=None, verbose=False):\n",
    "        # cleaned_fine_tree_fileName = \"1_tree-consensus-Hacket-AllSpecies.phy\"\n",
    "        cleaned_fine_tree_fileName = \"1_tree-consensus-Hacket-AllSpecies-cub-names.phy\"\n",
    "        # cleaned_fine_tree_fileName = \"1_tree-consensus-Hacket-27Species-cub-names.phy\"\n",
    "        \n",
    "        self.node_ids = node_ids\n",
    "        self.treeFileNameAndPath = os.path.join(filePath, cleaned_fine_tree_fileName)\n",
    "        self.total_distance = -1 # -1 means we never calculated it before.\n",
    "\n",
    "        self.distance_matrix = {}\n",
    "        self.species_groups_within_relative_distance = {}\n",
    "        self.get_tree(self.treeFileNameAndPath)\n",
    "        self.get_total_distance()\n",
    "    \n",
    "    # Given two species names, get the phylo distance between them\n",
    "    def get_distance(self, species1, species2):\n",
    "        d= None\n",
    "        if self.distance_matrix[species1][species2] == -1:\n",
    "            if species1 == species2:\n",
    "                return 0\n",
    "            d = self.tree.get_distance(species1, species2)\n",
    "\n",
    "            self.distance_matrix[species1][species2] = d\n",
    "        else:\n",
    "            d = self.distance_matrix[species1][species2]\n",
    "\n",
    "        return d\n",
    "\n",
    "    def get_siblings_by_name(self, species, relative_distance, verbose=False):\n",
    "        \n",
    "        self.get_species_groups(relative_distance, verbose)\n",
    "        for species_group in self.species_groups_within_relative_distance[relative_distance]:\n",
    "            if species in species_group:\n",
    "                return species_group\n",
    "        \n",
    "        raise species+\" was not found in \" + self.species_groups_within_relative_distance[relative_distance]\n",
    "\n",
    "    def get_parent_by_name(self, species, relative_distance, verbose=False):\n",
    "        abs_distance = relative_distance*self.total_distance\n",
    "        species_node = self.tree.search_nodes(name=species)[0]\n",
    "        if verbose:\n",
    "            print('distance to ancestor: ', abs_distance, \". relaive distance: \", relative_distance)\n",
    "\n",
    "        # keep going up till distance exceeds abs_distance\n",
    "        distance = 0\n",
    "        parent = species_node\n",
    "        while distance < abs_distance:\n",
    "            if parent.up is None:\n",
    "                break\n",
    "            parent = parent.up\n",
    "            distance = self.tree.get_distance(parent, species_node)\n",
    "        \n",
    "        return parent\n",
    "    \n",
    "    def get_distance_between_parents(self, species1, species2, relative_distance):\n",
    "        parent1 = self.get_parent_by_name(species1, relative_distance)\n",
    "        parent2 = self.get_parent_by_name(species2, relative_distance)\n",
    "        return self.tree.get_distance(parent1, parent2)\n",
    "    \n",
    "    def get_species_groups(self, relative_distance, verbose=False):\n",
    "        if relative_distance not in self.species_groups_within_relative_distance.keys():\n",
    "            groups = {}\n",
    "\n",
    "            for species in self.getLabelList():\n",
    "                parent_node = self.get_parent_by_name(species, relative_distance, verbose)\n",
    "                parent = parent_node.name\n",
    "                if parent not in groups.keys():\n",
    "                    groups[parent] = [species]\n",
    "                else:\n",
    "                    groups[parent].append(species)\n",
    "            \n",
    "            self.species_groups_within_relative_distance[relative_distance] = groups.values()\n",
    "            \n",
    "            if verbose:\n",
    "                print(\"At relative_distance\", relative_distance, \", the groups are:\", groups.values())\n",
    "        \n",
    "        return self.species_groups_within_relative_distance[relative_distance]\n",
    "\n",
    "    def getLabelList(self):\n",
    "        return list(self.node_ids)\n",
    "\n",
    "    # ------- privete functions\n",
    "\n",
    "    def get_total_distance(self):\n",
    "        if self.node_ids is None:\n",
    "            self.node_ids = sorted([leaf.name for leaf in self.tree.iter_leaves()])\n",
    "\n",
    "        self.init_distance_matrix()\n",
    "\n",
    "        # maximum distance between root and lead node taken as total distance\n",
    "        leaf_to_root_distances = [self.tree.get_distance(leaf) for leaf in self.tree.iter_leaves()]\n",
    "        self.total_distance = max(leaf_to_root_distances)\n",
    "\n",
    "        return self.total_distance\n",
    "\n",
    "    def init_distance_matrix(self):\n",
    "        for i in self.node_ids:\n",
    "            self.distance_matrix[i] = {}\n",
    "            for j in self.node_ids:\n",
    "                self.distance_matrix[i][j] = -1\n",
    "    \n",
    "    def get_tree(self, treeFileNameAndPath):\n",
    "        format_ = 1\n",
    "        self.tree = PhyloTree(treeFileNameAndPath, format=format_)\n",
    "\n",
    "        # setting a dummy name to the internal nodes if it is unnamed\n",
    "        for i, node in enumerate(self.tree.traverse(\"postorder\")):\n",
    "            if not len(node.name) > 0:\n",
    "                node.name = str(i)"
   ]
  },
  {
   "cell_type": "code",
   "execution_count": 3,
   "id": "2a72a552-937c-4860-8ad8-aaa638aced39",
   "metadata": {},
   "outputs": [],
   "source": [
    "phylogeny = PhylogenyCUB('/home/mridul/data/cub_phylogeny') "
   ]
  },
  {
   "cell_type": "code",
   "execution_count": 4,
   "id": "cd761f2f-3695-4e47-a8a4-59f7ae0a8fa9",
   "metadata": {},
   "outputs": [],
   "source": [
    "tree=phylogeny.tree"
   ]
  },
  {
   "cell_type": "code",
   "execution_count": 5,
   "id": "bb6a5bec-cfa4-4a2e-aaf1-80a74fed069d",
   "metadata": {},
   "outputs": [],
   "source": [
    "distances_from_root = []\n",
    "hops_fro_root = []\n",
    "r = tree.get_tree_root()\n",
    "for n in tree.traverse():\n",
    "    distances_from_root.append(tree.get_distance(n, r))\n",
    "    hops_fro_root.append(tree.get_distance(n, r, topology_only=True))\n",
    "    \n",
    "distances_from_root = [x/max(distances_from_root) for x in distances_from_root] # 1- ?"
   ]
  },
  {
   "cell_type": "code",
   "execution_count": 6,
   "id": "bb41f3d8-fa90-4743-bdc9-a24b27ddac06",
   "metadata": {},
   "outputs": [
    {
     "data": {
      "text/plain": [
       "374"
      ]
     },
     "execution_count": 6,
     "metadata": {},
     "output_type": "execute_result"
    }
   ],
   "source": [
    "len(distances_from_root)"
   ]
  },
  {
   "cell_type": "code",
   "execution_count": 7,
   "id": "f0d23a8a-28b2-4267-be85-1607e84de0eb",
   "metadata": {},
   "outputs": [],
   "source": [
    "distances_from_root_ = []\n",
    "hops_fro_root_ = []\n",
    "r = tree.get_tree_root()\n",
    "for n in tree.traverse():\n",
    "    distances_from_root_.append(tree.get_distance(n, r))\n",
    "    hops_fro_root_.append(tree.get_distance(n, r, topology_only=True))\n"
   ]
  },
  {
   "cell_type": "code",
   "execution_count": 8,
   "id": "a886094e-7a0b-4052-8f30-9538e3ccb3e2",
   "metadata": {},
   "outputs": [
    {
     "data": {
      "text/plain": [
       "99.38018"
      ]
     },
     "execution_count": 8,
     "metadata": {},
     "output_type": "execute_result"
    }
   ],
   "source": [
    "max(distances_from_root_)"
   ]
  },
  {
   "cell_type": "code",
   "execution_count": 9,
   "id": "8b84dbc3-cd7e-491b-87e5-2c9e4256af26",
   "metadata": {
    "jupyter": {
     "source_hidden": true
    },
    "tags": []
   },
   "outputs": [
    {
     "ename": "NameError",
     "evalue": "name 'np' is not defined",
     "output_type": "error",
     "traceback": [
      "\u001b[0;31m---------------------------------------------------------------------------\u001b[0m",
      "\u001b[0;31mNameError\u001b[0m                                 Traceback (most recent call last)",
      "Cell \u001b[0;32mIn [9], line 1\u001b[0m\n\u001b[0;32m----> 1\u001b[0m cdf \u001b[38;5;241m=\u001b[39m \u001b[43mnp\u001b[49m\u001b[38;5;241m.\u001b[39mcumsum(pdf)\n\u001b[1;32m      3\u001b[0m plt\u001b[38;5;241m.\u001b[39mbar(bins_count1[\u001b[38;5;241m1\u001b[39m:], cdf, color\u001b[38;5;241m=\u001b[39m\u001b[38;5;124m\"\u001b[39m\u001b[38;5;124mgreen\u001b[39m\u001b[38;5;124m\"\u001b[39m, label\u001b[38;5;241m=\u001b[39m\u001b[38;5;124m\"\u001b[39m\u001b[38;5;124mCDF\u001b[39m\u001b[38;5;124m\"\u001b[39m, width \u001b[38;5;241m=\u001b[39m \u001b[38;5;241m0.01\u001b[39m)\n\u001b[1;32m      4\u001b[0m plt\u001b[38;5;241m.\u001b[39mplot(bins_count1[\u001b[38;5;241m1\u001b[39m:], bins_count1[\u001b[38;5;241m1\u001b[39m:])\n",
      "\u001b[0;31mNameError\u001b[0m: name 'np' is not defined"
     ]
    }
   ],
   "source": [
    "cdf = np.cumsum(pdf)\n",
    "\n",
    "plt.bar(bins_count1[1:], cdf, color=\"green\", label=\"CDF\", width = 0.01)\n",
    "plt.plot(bins_count1[1:], bins_count1[1:])\n",
    "\n",
    "plt.yticks(yticks)\n",
    "\n",
    "xticks = []\n",
    "j = 0\n",
    "for indx, i in enumerate(bins_count1[1:]):\n",
    "    if cdf[indx] > yticks[j]:\n",
    "        xtick = bins_count1[indx-1]\n",
    "        xticks.append(xtick)\n",
    "        j = j+1\n",
    "        if j == 3: break\n",
    "plt.xticks(xticks)        \n",
    "\n",
    "plt.title(\"CDF of distances from root\")\n",
    "\n",
    "plt.show()\n",
    "\n",
    "print('The phylo quantizations should be at', xticks)"
   ]
  },
  {
   "cell_type": "code",
   "execution_count": 10,
   "id": "96da8b0a-945f-41ce-b617-cf3d79d83bba",
   "metadata": {},
   "outputs": [],
   "source": [
    "class Species_sibling_finder():\n",
    "    # Contructor\n",
    "    def __init__(self, phylogeny, genetic_distances_from_root):\n",
    "        self.map = {}\n",
    "        self.phylogeny = phylogeny\n",
    "        for species in phylogeny.node_ids:\n",
    "            self.map[species] = {}\n",
    "            for indx, distance in enumerate(genetic_distances_from_root):\n",
    "                distance_relative = get_relative_distance_for_level(genetic_distances_from_root, indx)\n",
    "                self.map[species][get_loss_name(genetic_distances_from_root, indx)] = phylogeny.get_siblings_by_name(species, distance_relative)\n",
    "\n",
    "\n",
    "    def map_speciesId_siblingVector(self, speciesId, loss_name):\n",
    "        label_list = self.phylogeny.getLabelList()\n",
    "        species = label_list[speciesId]\n",
    "        siblings = self.map[species][loss_name]\n",
    "        siblings_indices = list(map(lambda x: label_list.index(x), siblings))\n",
    "        return siblings_indices"
   ]
  },
  {
   "cell_type": "code",
   "execution_count": 11,
   "id": "53c14783-109b-43f7-834c-324b98f448f4",
   "metadata": {},
   "outputs": [],
   "source": [
    "phyloDistances_string = '0.93,0.83,0.63'"
   ]
  },
  {
   "cell_type": "code",
   "execution_count": 12,
   "id": "ae03278d-9e3b-4b3e-ad12-0ad269014a30",
   "metadata": {},
   "outputs": [],
   "source": [
    "def parse_phyloDistances(phyloDistances_string):\n",
    "    phyloDistances_list_string = phyloDistances_string.split(\",\")\n",
    "    sorted_distance = sorted(list(map(lambda x: float(x), phyloDistances_list_string)))\n",
    "    return sorted_distance"
   ]
  },
  {
   "cell_type": "code",
   "execution_count": 13,
   "id": "1686756d-6e2e-4c8c-b369-ef6f17d0812d",
   "metadata": {},
   "outputs": [],
   "source": [
    "phylo_distances = parse_phyloDistances(phyloDistances_string)"
   ]
  },
  {
   "cell_type": "code",
   "execution_count": 14,
   "id": "34953a61-afc6-4eff-abb2-0338d8d49c2f",
   "metadata": {
    "tags": []
   },
   "outputs": [
    {
     "data": {
      "text/plain": [
       "[0.63, 0.83, 0.93]"
      ]
     },
     "execution_count": 14,
     "metadata": {},
     "output_type": "execute_result"
    }
   ],
   "source": [
    "phylo_distances"
   ]
  },
  {
   "cell_type": "code",
   "execution_count": 15,
   "id": "e3b961ac-4266-4304-84a1-296280616af3",
   "metadata": {},
   "outputs": [],
   "source": [
    "def get_relative_distance_for_level(phylo_distances, level):\n",
    "    return 1.0- (phylo_distances[level] if level < len(phylo_distances) else 1.0)\n",
    "\n",
    "def get_loss_name(phylo_distances, level):\n",
    "    return str(phylo_distances[level]).replace(\".\", \"\")+\"distance\"\n",
    "\n",
    "# def get_relative_distance_for_level_given(self, level):\n",
    "#     return get_relative_distance_for_level(phylo_distances, level)"
   ]
  },
  {
   "cell_type": "code",
   "execution_count": 16,
   "id": "e0253fcc-86e3-4877-a75b-6d62fbb77c94",
   "metadata": {},
   "outputs": [],
   "source": [
    "siblingfinder = Species_sibling_finder(phylogeny, phylo_distances)"
   ]
  },
  {
   "cell_type": "code",
   "execution_count": 17,
   "id": "3b468e21-5fc2-4c9a-8ae9-4c0d5d635828",
   "metadata": {},
   "outputs": [
    {
     "data": {
      "text/plain": [
       "<__main__.Species_sibling_finder at 0x7fb8629a0df0>"
      ]
     },
     "execution_count": 17,
     "metadata": {},
     "output_type": "execute_result"
    }
   ],
   "source": [
    "siblingfinder"
   ]
  },
  {
   "cell_type": "code",
   "execution_count": 18,
   "id": "35727f2a-e626-4e72-a6f6-bc9b7ec9608f",
   "metadata": {
    "tags": []
   },
   "outputs": [],
   "source": [
    "cub_mapping_dict = {}\n",
    "for level, i in enumerate(phylo_distances):\n",
    "    relative_distance = get_relative_distance_for_level(phylo_distances, level)\n",
    "    # print(relative_distance)\n",
    "    species_groups = phylogeny.get_species_groups(relative_distance)\n",
    "    species_groups_list = list(map(lambda x: x[:], species_groups))\n",
    "    dict_from_list = {index: sublist for index, sublist in enumerate(species_groups_list)}\n",
    "    cub_mapping_dict[f'level_{level}'] = dict_from_list\n",
    "    # print(species_groups)\n",
    "    # species_groups_representatives = list(map(lambda x: x[0], species_groups))\n",
    "    # print(species_groups_representatives)\n",
    "    # pdb.set_trace()\n",
    "    # species_groups_representatives = list(map(lambda x: self.phylogeny.getLabelList().index(x), species_groups_representatives))\n",
    "    # self.mlb[get_loss_name(self.phylo_distances, level)] = species_groups_representatives"
   ]
  },
  {
   "cell_type": "code",
   "execution_count": 19,
   "id": "b3cb4cc9-d637-47e9-9195-40541c981e46",
   "metadata": {},
   "outputs": [
    {
     "data": {
      "text/plain": [
       "dict_keys(['level_0', 'level_1', 'level_2'])"
      ]
     },
     "execution_count": 19,
     "metadata": {},
     "output_type": "execute_result"
    }
   ],
   "source": [
    "cub_mapping_dict.keys()"
   ]
  },
  {
   "cell_type": "code",
   "execution_count": 23,
   "id": "bf8f580d-3e24-4f52-a5a6-e0a31c92478f",
   "metadata": {
    "collapsed": true,
    "jupyter": {
     "outputs_hidden": true
    },
    "tags": []
   },
   "outputs": [
    {
     "data": {
      "text/plain": [
       "{0: ['001.Black_footed_Albatross',\n",
       "  '002.Laysan_Albatross',\n",
       "  '003.Sooty_Albatross'],\n",
       " 1: ['004.Groove_billed_Ani'],\n",
       " 2: ['005.Crested_Auklet',\n",
       "  '006.Least_Auklet',\n",
       "  '007.Parakeet_Auklet',\n",
       "  '008.Rhinoceros_Auklet',\n",
       "  '058.Pigeon_Guillemot',\n",
       "  '071.Long_tailed_Jaeger',\n",
       "  '072.Pomarine_Jaeger',\n",
       "  '106.Horned_Puffin'],\n",
       " 3: ['009.Brewer_Blackbird',\n",
       "  '010.Red_winged_Blackbird',\n",
       "  '011.Rusty_Blackbird',\n",
       "  '012.Yellow_headed_Blackbird',\n",
       "  '013.Bobolink',\n",
       "  '020.Yellow_breasted_Chat',\n",
       "  '021.Eastern_Towhee',\n",
       "  '026.Bronzed_Cowbird',\n",
       "  '027.Shiny_Cowbird',\n",
       "  '049.Boat_tailed_Grackle',\n",
       "  '076.Dark_eyed_Junco',\n",
       "  '088.Western_Meadowlark',\n",
       "  '095.Baltimore_Oriole',\n",
       "  '096.Hooded_Oriole',\n",
       "  '097.Orchard_Oriole',\n",
       "  '098.Scott_Oriole',\n",
       "  '099.Ovenbird',\n",
       "  '109.American_Redstart',\n",
       "  '113.Baird_Sparrow',\n",
       "  '114.Black_throated_Sparrow',\n",
       "  '115.Brewer_Sparrow',\n",
       "  '116.Chipping_Sparrow',\n",
       "  '117.Clay_colored_Sparrow',\n",
       "  '119.Field_Sparrow',\n",
       "  '120.Fox_Sparrow',\n",
       "  '121.Grasshopper_Sparrow',\n",
       "  '122.Harris_Sparrow',\n",
       "  '123.Henslow_Sparrow',\n",
       "  '124.Le_Conte_Sparrow',\n",
       "  '125.Lincoln_Sparrow',\n",
       "  '126.Nelson_Sharp_tailed_Sparrow',\n",
       "  '127.Savannah_Sparrow',\n",
       "  '128.Seaside_Sparrow',\n",
       "  '129.Song_Sparrow',\n",
       "  '130.Tree_Sparrow',\n",
       "  '131.Vesper_Sparrow',\n",
       "  '132.White_crowned_Sparrow',\n",
       "  '133.White_throated_Sparrow',\n",
       "  '148.Green_tailed_Towhee',\n",
       "  '158.Bay_breasted_Warbler',\n",
       "  '159.Black_and_white_Warbler',\n",
       "  '160.Black_throated_Blue_Warbler',\n",
       "  '161.Blue_winged_Warbler',\n",
       "  '162.Canada_Warbler',\n",
       "  '163.Cape_May_Warbler',\n",
       "  '164.Cerulean_Warbler',\n",
       "  '165.Chestnut_sided_Warbler',\n",
       "  '166.Golden_winged_Warbler',\n",
       "  '167.Hooded_Warbler',\n",
       "  '168.Kentucky_Warbler',\n",
       "  '169.Magnolia_Warbler',\n",
       "  '170.Mourning_Warbler',\n",
       "  '172.Nashville_Warbler',\n",
       "  '173.Orange_crowned_Warbler',\n",
       "  '174.Palm_Warbler',\n",
       "  '175.Pine_Warbler',\n",
       "  '176.Prairie_Warbler',\n",
       "  '177.Prothonotary_Warbler',\n",
       "  '178.Swainson_Warbler',\n",
       "  '179.Tennessee_Warbler',\n",
       "  '180.Wilson_Warbler',\n",
       "  '181.Worm_eating_Warbler',\n",
       "  '183.Northern_Waterthrush',\n",
       "  '184.Louisiana_Waterthrush',\n",
       "  '200.Common_Yellowthroat'],\n",
       " 4: ['014.Indigo_Bunting',\n",
       "  '015.Lazuli_Bunting',\n",
       "  '016.Painted_Bunting',\n",
       "  '017.Cardinal',\n",
       "  '054.Blue_Grosbeak',\n",
       "  '139.Scarlet_Tanager',\n",
       "  '140.Summer_Tanager',\n",
       "  '182.Yellow_Warbler'],\n",
       " 5: ['018.Spotted_Catbird'],\n",
       " 6: ['019.Gray_Catbird',\n",
       "  '091.Mockingbird',\n",
       "  '149.Brown_Thrasher',\n",
       "  '150.Sage_Thrasher'],\n",
       " 7: ['023.Brandt_Cormorant',\n",
       "  '024.Red_faced_Cormorant',\n",
       "  '025.Pelagic_Cormorant',\n",
       "  '100.Brown_Pelican',\n",
       "  '101.White_Pelican'],\n",
       " 8: ['028.Brown_Creeper'],\n",
       " 9: ['029.American_Crow',\n",
       "  '030.Fish_Crow',\n",
       "  '073.Blue_Jay',\n",
       "  '074.Florida_Jay',\n",
       "  '093.Clark_Nutcracker',\n",
       "  '107.Common_Raven',\n",
       "  '108.White_necked_Raven'],\n",
       " 10: ['031.Black_billed_Cuckoo',\n",
       "  '032.Mangrove_Cuckoo',\n",
       "  '033.Yellow_billed_Cuckoo'],\n",
       " 11: ['034.Gray_crowned_Rosy_Finch',\n",
       "  '035.Purple_Finch',\n",
       "  '047.American_Goldfinch',\n",
       "  '048.European_Goldfinch'],\n",
       " 12: ['036.Northern_Flicker',\n",
       "  '187.American_Three_toed_Woodpecker',\n",
       "  '188.Pileated_Woodpecker',\n",
       "  '189.Red_bellied_Woodpecker',\n",
       "  '190.Red_cockaded_Woodpecker',\n",
       "  '191.Red_headed_Woodpecker',\n",
       "  '192.Downy_Woodpecker'],\n",
       " 13: ['037.Acadian_Flycatcher',\n",
       "  '038.Great_Crested_Flycatcher',\n",
       "  '039.Least_Flycatcher',\n",
       "  '040.Olive_sided_Flycatcher',\n",
       "  '041.Scissor_tailed_Flycatcher',\n",
       "  '042.Vermilion_Flycatcher',\n",
       "  '043.Yellow_bellied_Flycatcher',\n",
       "  '077.Tropical_Kingbird',\n",
       "  '078.Gray_Kingbird',\n",
       "  '102.Western_Wood_Pewee'],\n",
       " 14: ['045.Northern_Fulmar'],\n",
       " 15: ['046.Gadwall',\n",
       "  '087.Mallard',\n",
       "  '089.Hooded_Merganser',\n",
       "  '090.Red_breasted_Merganser'],\n",
       " 16: ['050.Eared_Grebe', '051.Horned_Grebe'],\n",
       " 17: ['052.Pied_billed_Grebe'],\n",
       " 18: ['053.Western_Grebe'],\n",
       " 19: ['055.Evening_Grosbeak'],\n",
       " 20: ['056.Pine_Grosbeak'],\n",
       " 21: ['057.Rose_breasted_Grosbeak'],\n",
       " 22: ['059.California_Gull',\n",
       "  '060.Glaucous_winged_Gull',\n",
       "  '061.Heermann_Gull',\n",
       "  '062.Herring_Gull',\n",
       "  '063.Ivory_Gull',\n",
       "  '064.Ring_billed_Gull',\n",
       "  '065.Slaty_backed_Gull',\n",
       "  '066.Western_Gull',\n",
       "  '084.Red_legged_Kittiwake',\n",
       "  '141.Artic_Tern',\n",
       "  '142.Black_Tern',\n",
       "  '143.Caspian_Tern',\n",
       "  '144.Common_Tern',\n",
       "  '145.Elegant_Tern',\n",
       "  '146.Forsters_Tern',\n",
       "  '147.Least_Tern'],\n",
       " 23: ['067.Anna_Hummingbird',\n",
       "  '068.Ruby_throated_Hummingbird',\n",
       "  '069.Rufous_Hummingbird',\n",
       "  '070.Green_Violetear'],\n",
       " 24: ['079.Belted_Kingfisher', '082.Ringed_Kingfisher'],\n",
       " 25: ['080.Green_Kingfisher', '081.Pied_Kingfisher'],\n",
       " 26: ['083.White_breasted_Kingfisher'],\n",
       " 27: ['085.Horned_Lark'],\n",
       " 28: ['086.Pacific_Loon'],\n",
       " 29: ['094.White_breasted_Nuthatch'],\n",
       " 30: ['104.American_Pipit'],\n",
       " 31: ['111.Loggerhead_Shrike', '112.Great_Grey_Shrike'],\n",
       " 32: ['118.House_Sparrow'],\n",
       " 33: ['136.Barn_Swallow', '137.Cliff_Swallow', '138.Tree_Swallow'],\n",
       " 34: ['151.Black_capped_Vireo',\n",
       "  '152.Blue_headed_Vireo',\n",
       "  '153.Philadelphia_Vireo',\n",
       "  '154.Red_eyed_Vireo',\n",
       "  '155.Warbling_Vireo',\n",
       "  '156.White_eyed_Vireo',\n",
       "  '157.Yellow_throated_Vireo'],\n",
       " 35: ['185.Bohemian_Waxwing', '186.Cedar_Waxwing'],\n",
       " 36: ['193.Bewick_Wren',\n",
       "  '194.Cactus_Wren',\n",
       "  '195.Carolina_Wren',\n",
       "  '196.House_Wren',\n",
       "  '197.Marsh_Wren',\n",
       "  '198.Rock_Wren',\n",
       "  '199.Winter_Wren']}"
      ]
     },
     "execution_count": 23,
     "metadata": {},
     "output_type": "execute_result"
    }
   ],
   "source": [
    "cub_mapping_dict['level_1']"
   ]
  },
  {
   "cell_type": "code",
   "execution_count": 25,
   "id": "bd4bac4f-9841-4ec8-85c9-5c0cca124938",
   "metadata": {},
   "outputs": [],
   "source": [
    "import json\n",
    "with open('/home/mridul/data/cub_phylogeny/cub_ancestral_mapping.json', 'w') as file:\n",
    "    json.dump(cub_mapping_dict, file, indent=4)"
   ]
  },
  {
   "cell_type": "code",
   "execution_count": 28,
   "id": "c676c692-60e1-4cd4-a71e-2f697d18bd3d",
   "metadata": {},
   "outputs": [],
   "source": [
    "list_ancestor_level2 = []\n",
    "for value in cub_mapping_dict['level_0'].values():\n",
    "    list_ancestor_level2.extend(value)\n",
    "list_ancestor_level2 = sorted(list_ancestor_level2)"
   ]
  },
  {
   "cell_type": "code",
   "execution_count": 29,
   "id": "9dadb1bb-6376-4b2d-9e64-7cf70e8642a5",
   "metadata": {},
   "outputs": [
    {
     "data": {
      "text/plain": [
       "190"
      ]
     },
     "execution_count": 29,
     "metadata": {},
     "output_type": "execute_result"
    }
   ],
   "source": [
    "len(dict_from_list = {index: sublist for index, sublist in enumerate(species_groups_list)})"
   ]
  },
  {
   "cell_type": "code",
   "execution_count": 31,
   "id": "2f62d742-4f6b-43fd-bb35-d6a489ab0ed1",
   "metadata": {
    "collapsed": true,
    "jupyter": {
     "outputs_hidden": true
    },
    "tags": []
   },
   "outputs": [
    {
     "data": {
      "text/plain": [
       "{0: '001.Black_footed_Albatross',\n",
       " 1: '002.Laysan_Albatross',\n",
       " 2: '003.Sooty_Albatross',\n",
       " 3: '004.Groove_billed_Ani',\n",
       " 4: '005.Crested_Auklet',\n",
       " 5: '006.Least_Auklet',\n",
       " 6: '007.Parakeet_Auklet',\n",
       " 7: '008.Rhinoceros_Auklet',\n",
       " 8: '009.Brewer_Blackbird',\n",
       " 9: '010.Red_winged_Blackbird',\n",
       " 10: '011.Rusty_Blackbird',\n",
       " 11: '012.Yellow_headed_Blackbird',\n",
       " 12: '013.Bobolink',\n",
       " 13: '014.Indigo_Bunting',\n",
       " 14: '015.Lazuli_Bunting',\n",
       " 15: '016.Painted_Bunting',\n",
       " 16: '017.Cardinal',\n",
       " 17: '018.Spotted_Catbird',\n",
       " 18: '019.Gray_Catbird',\n",
       " 19: '020.Yellow_breasted_Chat',\n",
       " 20: '021.Eastern_Towhee',\n",
       " 21: '023.Brandt_Cormorant',\n",
       " 22: '024.Red_faced_Cormorant',\n",
       " 23: '025.Pelagic_Cormorant',\n",
       " 24: '026.Bronzed_Cowbird',\n",
       " 25: '027.Shiny_Cowbird',\n",
       " 26: '028.Brown_Creeper',\n",
       " 27: '029.American_Crow',\n",
       " 28: '030.Fish_Crow',\n",
       " 29: '031.Black_billed_Cuckoo',\n",
       " 30: '032.Mangrove_Cuckoo',\n",
       " 31: '033.Yellow_billed_Cuckoo',\n",
       " 32: '034.Gray_crowned_Rosy_Finch',\n",
       " 33: '035.Purple_Finch',\n",
       " 34: '036.Northern_Flicker',\n",
       " 35: '037.Acadian_Flycatcher',\n",
       " 36: '038.Great_Crested_Flycatcher',\n",
       " 37: '039.Least_Flycatcher',\n",
       " 38: '040.Olive_sided_Flycatcher',\n",
       " 39: '041.Scissor_tailed_Flycatcher',\n",
       " 40: '042.Vermilion_Flycatcher',\n",
       " 41: '043.Yellow_bellied_Flycatcher',\n",
       " 42: '045.Northern_Fulmar',\n",
       " 43: '046.Gadwall',\n",
       " 44: '047.American_Goldfinch',\n",
       " 45: '048.European_Goldfinch',\n",
       " 46: '049.Boat_tailed_Grackle',\n",
       " 47: '050.Eared_Grebe',\n",
       " 48: '051.Horned_Grebe',\n",
       " 49: '052.Pied_billed_Grebe',\n",
       " 50: '053.Western_Grebe',\n",
       " 51: '054.Blue_Grosbeak',\n",
       " 52: '055.Evening_Grosbeak',\n",
       " 53: '056.Pine_Grosbeak',\n",
       " 54: '057.Rose_breasted_Grosbeak',\n",
       " 55: '058.Pigeon_Guillemot',\n",
       " 56: '059.California_Gull',\n",
       " 57: '060.Glaucous_winged_Gull',\n",
       " 58: '061.Heermann_Gull',\n",
       " 59: '062.Herring_Gull',\n",
       " 60: '063.Ivory_Gull',\n",
       " 61: '064.Ring_billed_Gull',\n",
       " 62: '065.Slaty_backed_Gull',\n",
       " 63: '066.Western_Gull',\n",
       " 64: '067.Anna_Hummingbird',\n",
       " 65: '068.Ruby_throated_Hummingbird',\n",
       " 66: '069.Rufous_Hummingbird',\n",
       " 67: '070.Green_Violetear',\n",
       " 68: '071.Long_tailed_Jaeger',\n",
       " 69: '072.Pomarine_Jaeger',\n",
       " 70: '073.Blue_Jay',\n",
       " 71: '074.Florida_Jay',\n",
       " 72: '076.Dark_eyed_Junco',\n",
       " 73: '077.Tropical_Kingbird',\n",
       " 74: '078.Gray_Kingbird',\n",
       " 75: '079.Belted_Kingfisher',\n",
       " 76: '080.Green_Kingfisher',\n",
       " 77: '081.Pied_Kingfisher',\n",
       " 78: '082.Ringed_Kingfisher',\n",
       " 79: '083.White_breasted_Kingfisher',\n",
       " 80: '084.Red_legged_Kittiwake',\n",
       " 81: '085.Horned_Lark',\n",
       " 82: '086.Pacific_Loon',\n",
       " 83: '087.Mallard',\n",
       " 84: '088.Western_Meadowlark',\n",
       " 85: '089.Hooded_Merganser',\n",
       " 86: '090.Red_breasted_Merganser',\n",
       " 87: '091.Mockingbird',\n",
       " 88: '093.Clark_Nutcracker',\n",
       " 89: '094.White_breasted_Nuthatch',\n",
       " 90: '095.Baltimore_Oriole',\n",
       " 91: '096.Hooded_Oriole',\n",
       " 92: '097.Orchard_Oriole',\n",
       " 93: '098.Scott_Oriole',\n",
       " 94: '099.Ovenbird',\n",
       " 95: '100.Brown_Pelican',\n",
       " 96: '101.White_Pelican',\n",
       " 97: '102.Western_Wood_Pewee',\n",
       " 98: '104.American_Pipit',\n",
       " 99: '106.Horned_Puffin',\n",
       " 100: '107.Common_Raven',\n",
       " 101: '108.White_necked_Raven',\n",
       " 102: '109.American_Redstart',\n",
       " 103: '111.Loggerhead_Shrike',\n",
       " 104: '112.Great_Grey_Shrike',\n",
       " 105: '113.Baird_Sparrow',\n",
       " 106: '114.Black_throated_Sparrow',\n",
       " 107: '115.Brewer_Sparrow',\n",
       " 108: '116.Chipping_Sparrow',\n",
       " 109: '117.Clay_colored_Sparrow',\n",
       " 110: '118.House_Sparrow',\n",
       " 111: '119.Field_Sparrow',\n",
       " 112: '120.Fox_Sparrow',\n",
       " 113: '121.Grasshopper_Sparrow',\n",
       " 114: '122.Harris_Sparrow',\n",
       " 115: '123.Henslow_Sparrow',\n",
       " 116: '124.Le_Conte_Sparrow',\n",
       " 117: '125.Lincoln_Sparrow',\n",
       " 118: '126.Nelson_Sharp_tailed_Sparrow',\n",
       " 119: '127.Savannah_Sparrow',\n",
       " 120: '128.Seaside_Sparrow',\n",
       " 121: '129.Song_Sparrow',\n",
       " 122: '130.Tree_Sparrow',\n",
       " 123: '131.Vesper_Sparrow',\n",
       " 124: '132.White_crowned_Sparrow',\n",
       " 125: '133.White_throated_Sparrow',\n",
       " 126: '136.Barn_Swallow',\n",
       " 127: '137.Cliff_Swallow',\n",
       " 128: '138.Tree_Swallow',\n",
       " 129: '139.Scarlet_Tanager',\n",
       " 130: '140.Summer_Tanager',\n",
       " 131: '141.Artic_Tern',\n",
       " 132: '142.Black_Tern',\n",
       " 133: '143.Caspian_Tern',\n",
       " 134: '144.Common_Tern',\n",
       " 135: '145.Elegant_Tern',\n",
       " 136: '146.Forsters_Tern',\n",
       " 137: '147.Least_Tern',\n",
       " 138: '148.Green_tailed_Towhee',\n",
       " 139: '149.Brown_Thrasher',\n",
       " 140: '150.Sage_Thrasher',\n",
       " 141: '151.Black_capped_Vireo',\n",
       " 142: '152.Blue_headed_Vireo',\n",
       " 143: '153.Philadelphia_Vireo',\n",
       " 144: '154.Red_eyed_Vireo',\n",
       " 145: '155.Warbling_Vireo',\n",
       " 146: '156.White_eyed_Vireo',\n",
       " 147: '157.Yellow_throated_Vireo',\n",
       " 148: '158.Bay_breasted_Warbler',\n",
       " 149: '159.Black_and_white_Warbler',\n",
       " 150: '160.Black_throated_Blue_Warbler',\n",
       " 151: '161.Blue_winged_Warbler',\n",
       " 152: '162.Canada_Warbler',\n",
       " 153: '163.Cape_May_Warbler',\n",
       " 154: '164.Cerulean_Warbler',\n",
       " 155: '165.Chestnut_sided_Warbler',\n",
       " 156: '166.Golden_winged_Warbler',\n",
       " 157: '167.Hooded_Warbler',\n",
       " 158: '168.Kentucky_Warbler',\n",
       " 159: '169.Magnolia_Warbler',\n",
       " 160: '170.Mourning_Warbler',\n",
       " 161: '172.Nashville_Warbler',\n",
       " 162: '173.Orange_crowned_Warbler',\n",
       " 163: '174.Palm_Warbler',\n",
       " 164: '175.Pine_Warbler',\n",
       " 165: '176.Prairie_Warbler',\n",
       " 166: '177.Prothonotary_Warbler',\n",
       " 167: '178.Swainson_Warbler',\n",
       " 168: '179.Tennessee_Warbler',\n",
       " 169: '180.Wilson_Warbler',\n",
       " 170: '181.Worm_eating_Warbler',\n",
       " 171: '182.Yellow_Warbler',\n",
       " 172: '183.Northern_Waterthrush',\n",
       " 173: '184.Louisiana_Waterthrush',\n",
       " 174: '185.Bohemian_Waxwing',\n",
       " 175: '186.Cedar_Waxwing',\n",
       " 176: '187.American_Three_toed_Woodpecker',\n",
       " 177: '188.Pileated_Woodpecker',\n",
       " 178: '189.Red_bellied_Woodpecker',\n",
       " 179: '190.Red_cockaded_Woodpecker',\n",
       " 180: '191.Red_headed_Woodpecker',\n",
       " 181: '192.Downy_Woodpecker',\n",
       " 182: '193.Bewick_Wren',\n",
       " 183: '194.Cactus_Wren',\n",
       " 184: '195.Carolina_Wren',\n",
       " 185: '196.House_Wren',\n",
       " 186: '197.Marsh_Wren',\n",
       " 187: '198.Rock_Wren',\n",
       " 188: '199.Winter_Wren',\n",
       " 189: '200.Common_Yellowthroat'}"
      ]
     },
     "execution_count": 31,
     "metadata": {},
     "output_type": "execute_result"
    }
   ],
   "source": [
    "dict_from_list = {index: sublist for index, sublist in enumerate(list_ancestor_level2)}\n",
    "dict_from_list"
   ]
  },
  {
   "cell_type": "code",
   "execution_count": 32,
   "id": "cd0c7902-29fa-4b1e-a44d-124210a55705",
   "metadata": {},
   "outputs": [],
   "source": [
    "with open('/home/mridul/data/cub_phylogeny/cub_mapping_species_level.json', 'w') as file:\n",
    "    json.dump(dict_from_list, file, indent=4)"
   ]
  },
  {
   "cell_type": "code",
   "execution_count": null,
   "id": "cd7704a5-bbee-4e3f-93f3-de90d8d0ee16",
   "metadata": {},
   "outputs": [],
   "source": []
  }
 ],
 "metadata": {
  "kernelspec": {
   "display_name": "Python 3 (ipykernel)",
   "language": "python",
   "name": "python3"
  },
  "language_info": {
   "codemirror_mode": {
    "name": "ipython",
    "version": 3
   },
   "file_extension": ".py",
   "mimetype": "text/x-python",
   "name": "python",
   "nbconvert_exporter": "python",
   "pygments_lexer": "ipython3",
   "version": "3.9.13"
  }
 },
 "nbformat": 4,
 "nbformat_minor": 5
}
